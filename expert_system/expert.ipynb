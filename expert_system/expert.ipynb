{
 "cells": [
  {
   "cell_type": "code",
   "execution_count": 3,
   "id": "6328bbc7",
   "metadata": {},
   "outputs": [],
   "source": [
    "!pip install gradio pandas --quiet"
   ]
  },
  {
   "cell_type": "code",
   "execution_count": 4,
   "id": "eed817a6",
   "metadata": {},
   "outputs": [
    {
     "name": "stdout",
     "output_type": "stream",
     "text": [
      "* Running on local URL:  http://127.0.0.1:7861\n",
      "* Running on public URL: https://6dbe6ad5518bf9b3a9.gradio.live\n",
      "\n",
      "This share link expires in 1 week. For free permanent hosting and GPU upgrades, run `gradio deploy` from the terminal in the working directory to deploy to Hugging Face Spaces (https://huggingface.co/spaces)\n"
     ]
    },
    {
     "data": {
      "text/html": [
       "<div><iframe src=\"https://6dbe6ad5518bf9b3a9.gradio.live\" width=\"100%\" height=\"500\" allow=\"autoplay; camera; microphone; clipboard-read; clipboard-write;\" frameborder=\"0\" allowfullscreen></iframe></div>"
      ],
      "text/plain": [
       "<IPython.core.display.HTML object>"
      ]
     },
     "metadata": {},
     "output_type": "display_data"
    },
    {
     "data": {
      "text/plain": []
     },
     "execution_count": 4,
     "metadata": {},
     "output_type": "execute_result"
    }
   ],
   "source": [
    "import gradio as gr\n",
    "import pandas as pd\n",
    "from datetime import datetime\n",
    "import os\n",
    "\n",
    "# Daftar gejala\n",
    "gejala_list = [\n",
    "    \"Tidak bisa menyala\",\n",
    "    \"Lampu indikator menyala tapi layar gelap\",\n",
    "    \"Layar berkedip-kedip\",\n",
    "    \"Suara kipas terdengar keras\",\n",
    "    \"Laptop mati tiba-tiba\",\n",
    "    \"Baterai cepat habis\",\n",
    "    \"Muncul pesan overheating\"\n",
    "]\n",
    "\n",
    "# Aturan pakar\n",
    "rules = [\n",
    "    {\n",
    "        \"gejala\": {\"Tidak bisa menyala\", \"Lampu indikator menyala tapi layar gelap\"},\n",
    "        \"diagnosa\": \"Kemungkinan kerusakan VGA\",\n",
    "        \"confidence\": 0.8\n",
    "    },\n",
    "    {\n",
    "        \"gejala\": {\"Laptop mati tiba-tiba\", \"Suara kipas terdengar keras\"},\n",
    "        \"diagnosa\": \"Kemungkinan Overheating\",\n",
    "        \"confidence\": 0.9\n",
    "    },\n",
    "    {\n",
    "        \"gejala\": {\"Baterai cepat habis\", \"Muncul pesan overheating\"},\n",
    "        \"diagnosa\": \"Kemungkinan Baterai Rusak\",\n",
    "        \"confidence\": 0.7\n",
    "    },\n",
    "    {\n",
    "        \"gejala\": {\"Layar berkedip-kedip\"},\n",
    "        \"diagnosa\": \"Kemungkinan RAM atau VGA bermasalah\",\n",
    "        \"confidence\": 0.6\n",
    "    }\n",
    "]\n",
    "\n",
    "# Fungsi sistem pakar\n",
    "def sistem_pakar(input_gejala):\n",
    "    hasil = []\n",
    "    input_set = set(input_gejala)\n",
    "\n",
    "    for rule in rules:\n",
    "        if rule[\"gejala\"].issubset(input_set):\n",
    "            hasil.append(f\"- {rule['diagnosa']} (Keyakinan: {int(rule['confidence']*100)}%)\")\n",
    "\n",
    "    if not hasil:\n",
    "        hasil_text = \"Belum bisa menyimpulkan kerusakan berdasarkan gejala tersebut.\"\n",
    "    else:\n",
    "        hasil_text = \"\\n\".join(hasil)\n",
    "\n",
    "    # Simpan riwayat ke CSV\n",
    "    waktu = datetime.now().strftime(\"%Y-%m-%d %H:%M:%S\")\n",
    "    data = {\n",
    "        \"waktu\": waktu,\n",
    "        \"gejala_dipilih\": \"; \".join(input_gejala),\n",
    "        \"hasil_diagnosa\": hasil_text\n",
    "    }\n",
    "    df = pd.DataFrame([data])\n",
    "\n",
    "    if os.path.exists(\"riwayat_diagnosa.csv\"):\n",
    "        df.to_csv(\"riwayat_diagnosa.csv\", mode='a', header=False, index=False)\n",
    "    else:\n",
    "        df.to_csv(\"riwayat_diagnosa.csv\", index=False)\n",
    "\n",
    "    return hasil_text\n",
    "\n",
    "# UI Gradio\n",
    "iface = gr.Interface(\n",
    "    fn=sistem_pakar,\n",
    "    inputs=gr.CheckboxGroup(choices=gejala_list, label=\"Pilih Gejala Kerusakan Laptop\"),\n",
    "    outputs=gr.Textbox(label=\"Hasil Diagnosa\"),\n",
    "    title=\"💻 Sistem Pakar Diagnosa Kerusakan Laptop\",\n",
    "    description=\"Sistem akan memberikan kemungkinan diagnosa berdasarkan gejala yang dipilih. Riwayat disimpan ke file CSV.\"\n",
    ")\n",
    "\n",
    "iface.launch(share=True)\n"
   ]
  }
 ],
 "metadata": {
  "kernelspec": {
   "display_name": ".configs",
   "language": "python",
   "name": "python3"
  },
  "language_info": {
   "codemirror_mode": {
    "name": "ipython",
    "version": 3
   },
   "file_extension": ".py",
   "mimetype": "text/x-python",
   "name": "python",
   "nbconvert_exporter": "python",
   "pygments_lexer": "ipython3",
   "version": "3.13.3"
  }
 },
 "nbformat": 4,
 "nbformat_minor": 5
}
